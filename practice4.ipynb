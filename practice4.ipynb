{
 "cells": [
  {
   "cell_type": "code",
   "execution_count": 1,
   "id": "621e5fd2",
   "metadata": {},
   "outputs": [],
   "source": [
    "import pandas as pd\n",
    "import numpy as np\n",
    "import matplotlib.pyplot as plt\n",
    "import tensorflow as tf\n",
    "import seaborn as sns\n",
    "import pickle\n",
    "from sklearn.model_selection import train_test_split\n",
    "from keras.models import Model,load_model\n",
    "from keras.layers import Input,Dense\n",
    "from keras.callbacks import ModelCheckpoint,TensorBoard\n",
    "from keras import regularizers\n",
    "\n",
    "RANDOM_SEED=42\n",
    "TEST_PCT=0.3\n",
    "LABELS=['Normal','Fraud']\n"
   ]
  },
  {
   "cell_type": "code",
   "execution_count": 2,
   "id": "d2b1848e",
   "metadata": {},
   "outputs": [],
   "source": [
    "df=pd.read_csv(r'creditcard.csv')"
   ]
  },
  {
   "cell_type": "code",
   "execution_count": 3,
   "id": "2c2ef1b3",
   "metadata": {},
   "outputs": [
    {
     "data": {
      "text/html": [
       "<div>\n",
       "<style scoped>\n",
       "    .dataframe tbody tr th:only-of-type {\n",
       "        vertical-align: middle;\n",
       "    }\n",
       "\n",
       "    .dataframe tbody tr th {\n",
       "        vertical-align: top;\n",
       "    }\n",
       "\n",
       "    .dataframe thead th {\n",
       "        text-align: right;\n",
       "    }\n",
       "</style>\n",
       "<table border=\"1\" class=\"dataframe\">\n",
       "  <thead>\n",
       "    <tr style=\"text-align: right;\">\n",
       "      <th></th>\n",
       "      <th>Time</th>\n",
       "      <th>V1</th>\n",
       "      <th>V2</th>\n",
       "      <th>V3</th>\n",
       "      <th>V4</th>\n",
       "      <th>V5</th>\n",
       "      <th>V6</th>\n",
       "      <th>V7</th>\n",
       "      <th>V8</th>\n",
       "      <th>V9</th>\n",
       "      <th>...</th>\n",
       "      <th>V21</th>\n",
       "      <th>V22</th>\n",
       "      <th>V23</th>\n",
       "      <th>V24</th>\n",
       "      <th>V25</th>\n",
       "      <th>V26</th>\n",
       "      <th>V27</th>\n",
       "      <th>V28</th>\n",
       "      <th>Amount</th>\n",
       "      <th>Class</th>\n",
       "    </tr>\n",
       "  </thead>\n",
       "  <tbody>\n",
       "    <tr>\n",
       "      <th>0</th>\n",
       "      <td>0.0</td>\n",
       "      <td>-1.359807</td>\n",
       "      <td>-0.072781</td>\n",
       "      <td>2.536347</td>\n",
       "      <td>1.378155</td>\n",
       "      <td>-0.338321</td>\n",
       "      <td>0.462388</td>\n",
       "      <td>0.239599</td>\n",
       "      <td>0.098698</td>\n",
       "      <td>0.363787</td>\n",
       "      <td>...</td>\n",
       "      <td>-0.018307</td>\n",
       "      <td>0.277838</td>\n",
       "      <td>-0.110474</td>\n",
       "      <td>0.066928</td>\n",
       "      <td>0.128539</td>\n",
       "      <td>-0.189115</td>\n",
       "      <td>0.133558</td>\n",
       "      <td>-0.021053</td>\n",
       "      <td>149.62</td>\n",
       "      <td>0</td>\n",
       "    </tr>\n",
       "    <tr>\n",
       "      <th>1</th>\n",
       "      <td>0.0</td>\n",
       "      <td>1.191857</td>\n",
       "      <td>0.266151</td>\n",
       "      <td>0.166480</td>\n",
       "      <td>0.448154</td>\n",
       "      <td>0.060018</td>\n",
       "      <td>-0.082361</td>\n",
       "      <td>-0.078803</td>\n",
       "      <td>0.085102</td>\n",
       "      <td>-0.255425</td>\n",
       "      <td>...</td>\n",
       "      <td>-0.225775</td>\n",
       "      <td>-0.638672</td>\n",
       "      <td>0.101288</td>\n",
       "      <td>-0.339846</td>\n",
       "      <td>0.167170</td>\n",
       "      <td>0.125895</td>\n",
       "      <td>-0.008983</td>\n",
       "      <td>0.014724</td>\n",
       "      <td>2.69</td>\n",
       "      <td>0</td>\n",
       "    </tr>\n",
       "    <tr>\n",
       "      <th>2</th>\n",
       "      <td>1.0</td>\n",
       "      <td>-1.358354</td>\n",
       "      <td>-1.340163</td>\n",
       "      <td>1.773209</td>\n",
       "      <td>0.379780</td>\n",
       "      <td>-0.503198</td>\n",
       "      <td>1.800499</td>\n",
       "      <td>0.791461</td>\n",
       "      <td>0.247676</td>\n",
       "      <td>-1.514654</td>\n",
       "      <td>...</td>\n",
       "      <td>0.247998</td>\n",
       "      <td>0.771679</td>\n",
       "      <td>0.909412</td>\n",
       "      <td>-0.689281</td>\n",
       "      <td>-0.327642</td>\n",
       "      <td>-0.139097</td>\n",
       "      <td>-0.055353</td>\n",
       "      <td>-0.059752</td>\n",
       "      <td>378.66</td>\n",
       "      <td>0</td>\n",
       "    </tr>\n",
       "    <tr>\n",
       "      <th>3</th>\n",
       "      <td>1.0</td>\n",
       "      <td>-0.966272</td>\n",
       "      <td>-0.185226</td>\n",
       "      <td>1.792993</td>\n",
       "      <td>-0.863291</td>\n",
       "      <td>-0.010309</td>\n",
       "      <td>1.247203</td>\n",
       "      <td>0.237609</td>\n",
       "      <td>0.377436</td>\n",
       "      <td>-1.387024</td>\n",
       "      <td>...</td>\n",
       "      <td>-0.108300</td>\n",
       "      <td>0.005274</td>\n",
       "      <td>-0.190321</td>\n",
       "      <td>-1.175575</td>\n",
       "      <td>0.647376</td>\n",
       "      <td>-0.221929</td>\n",
       "      <td>0.062723</td>\n",
       "      <td>0.061458</td>\n",
       "      <td>123.50</td>\n",
       "      <td>0</td>\n",
       "    </tr>\n",
       "    <tr>\n",
       "      <th>4</th>\n",
       "      <td>2.0</td>\n",
       "      <td>-1.158233</td>\n",
       "      <td>0.877737</td>\n",
       "      <td>1.548718</td>\n",
       "      <td>0.403034</td>\n",
       "      <td>-0.407193</td>\n",
       "      <td>0.095921</td>\n",
       "      <td>0.592941</td>\n",
       "      <td>-0.270533</td>\n",
       "      <td>0.817739</td>\n",
       "      <td>...</td>\n",
       "      <td>-0.009431</td>\n",
       "      <td>0.798278</td>\n",
       "      <td>-0.137458</td>\n",
       "      <td>0.141267</td>\n",
       "      <td>-0.206010</td>\n",
       "      <td>0.502292</td>\n",
       "      <td>0.219422</td>\n",
       "      <td>0.215153</td>\n",
       "      <td>69.99</td>\n",
       "      <td>0</td>\n",
       "    </tr>\n",
       "  </tbody>\n",
       "</table>\n",
       "<p>5 rows × 31 columns</p>\n",
       "</div>"
      ],
      "text/plain": [
       "   Time        V1        V2        V3        V4        V5        V6        V7  \\\n",
       "0   0.0 -1.359807 -0.072781  2.536347  1.378155 -0.338321  0.462388  0.239599   \n",
       "1   0.0  1.191857  0.266151  0.166480  0.448154  0.060018 -0.082361 -0.078803   \n",
       "2   1.0 -1.358354 -1.340163  1.773209  0.379780 -0.503198  1.800499  0.791461   \n",
       "3   1.0 -0.966272 -0.185226  1.792993 -0.863291 -0.010309  1.247203  0.237609   \n",
       "4   2.0 -1.158233  0.877737  1.548718  0.403034 -0.407193  0.095921  0.592941   \n",
       "\n",
       "         V8        V9  ...       V21       V22       V23       V24       V25  \\\n",
       "0  0.098698  0.363787  ... -0.018307  0.277838 -0.110474  0.066928  0.128539   \n",
       "1  0.085102 -0.255425  ... -0.225775 -0.638672  0.101288 -0.339846  0.167170   \n",
       "2  0.247676 -1.514654  ...  0.247998  0.771679  0.909412 -0.689281 -0.327642   \n",
       "3  0.377436 -1.387024  ... -0.108300  0.005274 -0.190321 -1.175575  0.647376   \n",
       "4 -0.270533  0.817739  ... -0.009431  0.798278 -0.137458  0.141267 -0.206010   \n",
       "\n",
       "        V26       V27       V28  Amount  Class  \n",
       "0 -0.189115  0.133558 -0.021053  149.62      0  \n",
       "1  0.125895 -0.008983  0.014724    2.69      0  \n",
       "2 -0.139097 -0.055353 -0.059752  378.66      0  \n",
       "3 -0.221929  0.062723  0.061458  123.50      0  \n",
       "4  0.502292  0.219422  0.215153   69.99      0  \n",
       "\n",
       "[5 rows x 31 columns]"
      ]
     },
     "execution_count": 3,
     "metadata": {},
     "output_type": "execute_result"
    }
   ],
   "source": [
    "df.head()"
   ]
  },
  {
   "cell_type": "code",
   "execution_count": 4,
   "id": "2d3c59ae",
   "metadata": {},
   "outputs": [
    {
     "data": {
      "text/html": [
       "<div>\n",
       "<style scoped>\n",
       "    .dataframe tbody tr th:only-of-type {\n",
       "        vertical-align: middle;\n",
       "    }\n",
       "\n",
       "    .dataframe tbody tr th {\n",
       "        vertical-align: top;\n",
       "    }\n",
       "\n",
       "    .dataframe thead th {\n",
       "        text-align: right;\n",
       "    }\n",
       "</style>\n",
       "<table border=\"1\" class=\"dataframe\">\n",
       "  <thead>\n",
       "    <tr style=\"text-align: right;\">\n",
       "      <th></th>\n",
       "      <th>Time</th>\n",
       "      <th>V1</th>\n",
       "      <th>V2</th>\n",
       "      <th>V3</th>\n",
       "      <th>V4</th>\n",
       "      <th>V5</th>\n",
       "      <th>V6</th>\n",
       "      <th>V7</th>\n",
       "      <th>V8</th>\n",
       "      <th>V9</th>\n",
       "      <th>...</th>\n",
       "      <th>V21</th>\n",
       "      <th>V22</th>\n",
       "      <th>V23</th>\n",
       "      <th>V24</th>\n",
       "      <th>V25</th>\n",
       "      <th>V26</th>\n",
       "      <th>V27</th>\n",
       "      <th>V28</th>\n",
       "      <th>Amount</th>\n",
       "      <th>Class</th>\n",
       "    </tr>\n",
       "  </thead>\n",
       "  <tbody>\n",
       "    <tr>\n",
       "      <th>count</th>\n",
       "      <td>284807.000000</td>\n",
       "      <td>2.848070e+05</td>\n",
       "      <td>2.848070e+05</td>\n",
       "      <td>2.848070e+05</td>\n",
       "      <td>2.848070e+05</td>\n",
       "      <td>2.848070e+05</td>\n",
       "      <td>2.848070e+05</td>\n",
       "      <td>2.848070e+05</td>\n",
       "      <td>2.848070e+05</td>\n",
       "      <td>2.848070e+05</td>\n",
       "      <td>...</td>\n",
       "      <td>2.848070e+05</td>\n",
       "      <td>2.848070e+05</td>\n",
       "      <td>2.848070e+05</td>\n",
       "      <td>2.848070e+05</td>\n",
       "      <td>2.848070e+05</td>\n",
       "      <td>2.848070e+05</td>\n",
       "      <td>2.848070e+05</td>\n",
       "      <td>2.848070e+05</td>\n",
       "      <td>284807.000000</td>\n",
       "      <td>284807.000000</td>\n",
       "    </tr>\n",
       "    <tr>\n",
       "      <th>mean</th>\n",
       "      <td>94813.859575</td>\n",
       "      <td>1.168375e-15</td>\n",
       "      <td>3.416908e-16</td>\n",
       "      <td>-1.379537e-15</td>\n",
       "      <td>2.074095e-15</td>\n",
       "      <td>9.604066e-16</td>\n",
       "      <td>1.487313e-15</td>\n",
       "      <td>-5.556467e-16</td>\n",
       "      <td>1.213481e-16</td>\n",
       "      <td>-2.406331e-15</td>\n",
       "      <td>...</td>\n",
       "      <td>1.654067e-16</td>\n",
       "      <td>-3.568593e-16</td>\n",
       "      <td>2.578648e-16</td>\n",
       "      <td>4.473266e-15</td>\n",
       "      <td>5.340915e-16</td>\n",
       "      <td>1.683437e-15</td>\n",
       "      <td>-3.660091e-16</td>\n",
       "      <td>-1.227390e-16</td>\n",
       "      <td>88.349619</td>\n",
       "      <td>0.001727</td>\n",
       "    </tr>\n",
       "    <tr>\n",
       "      <th>std</th>\n",
       "      <td>47488.145955</td>\n",
       "      <td>1.958696e+00</td>\n",
       "      <td>1.651309e+00</td>\n",
       "      <td>1.516255e+00</td>\n",
       "      <td>1.415869e+00</td>\n",
       "      <td>1.380247e+00</td>\n",
       "      <td>1.332271e+00</td>\n",
       "      <td>1.237094e+00</td>\n",
       "      <td>1.194353e+00</td>\n",
       "      <td>1.098632e+00</td>\n",
       "      <td>...</td>\n",
       "      <td>7.345240e-01</td>\n",
       "      <td>7.257016e-01</td>\n",
       "      <td>6.244603e-01</td>\n",
       "      <td>6.056471e-01</td>\n",
       "      <td>5.212781e-01</td>\n",
       "      <td>4.822270e-01</td>\n",
       "      <td>4.036325e-01</td>\n",
       "      <td>3.300833e-01</td>\n",
       "      <td>250.120109</td>\n",
       "      <td>0.041527</td>\n",
       "    </tr>\n",
       "    <tr>\n",
       "      <th>min</th>\n",
       "      <td>0.000000</td>\n",
       "      <td>-5.640751e+01</td>\n",
       "      <td>-7.271573e+01</td>\n",
       "      <td>-4.832559e+01</td>\n",
       "      <td>-5.683171e+00</td>\n",
       "      <td>-1.137433e+02</td>\n",
       "      <td>-2.616051e+01</td>\n",
       "      <td>-4.355724e+01</td>\n",
       "      <td>-7.321672e+01</td>\n",
       "      <td>-1.343407e+01</td>\n",
       "      <td>...</td>\n",
       "      <td>-3.483038e+01</td>\n",
       "      <td>-1.093314e+01</td>\n",
       "      <td>-4.480774e+01</td>\n",
       "      <td>-2.836627e+00</td>\n",
       "      <td>-1.029540e+01</td>\n",
       "      <td>-2.604551e+00</td>\n",
       "      <td>-2.256568e+01</td>\n",
       "      <td>-1.543008e+01</td>\n",
       "      <td>0.000000</td>\n",
       "      <td>0.000000</td>\n",
       "    </tr>\n",
       "    <tr>\n",
       "      <th>25%</th>\n",
       "      <td>54201.500000</td>\n",
       "      <td>-9.203734e-01</td>\n",
       "      <td>-5.985499e-01</td>\n",
       "      <td>-8.903648e-01</td>\n",
       "      <td>-8.486401e-01</td>\n",
       "      <td>-6.915971e-01</td>\n",
       "      <td>-7.682956e-01</td>\n",
       "      <td>-5.540759e-01</td>\n",
       "      <td>-2.086297e-01</td>\n",
       "      <td>-6.430976e-01</td>\n",
       "      <td>...</td>\n",
       "      <td>-2.283949e-01</td>\n",
       "      <td>-5.423504e-01</td>\n",
       "      <td>-1.618463e-01</td>\n",
       "      <td>-3.545861e-01</td>\n",
       "      <td>-3.171451e-01</td>\n",
       "      <td>-3.269839e-01</td>\n",
       "      <td>-7.083953e-02</td>\n",
       "      <td>-5.295979e-02</td>\n",
       "      <td>5.600000</td>\n",
       "      <td>0.000000</td>\n",
       "    </tr>\n",
       "    <tr>\n",
       "      <th>50%</th>\n",
       "      <td>84692.000000</td>\n",
       "      <td>1.810880e-02</td>\n",
       "      <td>6.548556e-02</td>\n",
       "      <td>1.798463e-01</td>\n",
       "      <td>-1.984653e-02</td>\n",
       "      <td>-5.433583e-02</td>\n",
       "      <td>-2.741871e-01</td>\n",
       "      <td>4.010308e-02</td>\n",
       "      <td>2.235804e-02</td>\n",
       "      <td>-5.142873e-02</td>\n",
       "      <td>...</td>\n",
       "      <td>-2.945017e-02</td>\n",
       "      <td>6.781943e-03</td>\n",
       "      <td>-1.119293e-02</td>\n",
       "      <td>4.097606e-02</td>\n",
       "      <td>1.659350e-02</td>\n",
       "      <td>-5.213911e-02</td>\n",
       "      <td>1.342146e-03</td>\n",
       "      <td>1.124383e-02</td>\n",
       "      <td>22.000000</td>\n",
       "      <td>0.000000</td>\n",
       "    </tr>\n",
       "    <tr>\n",
       "      <th>75%</th>\n",
       "      <td>139320.500000</td>\n",
       "      <td>1.315642e+00</td>\n",
       "      <td>8.037239e-01</td>\n",
       "      <td>1.027196e+00</td>\n",
       "      <td>7.433413e-01</td>\n",
       "      <td>6.119264e-01</td>\n",
       "      <td>3.985649e-01</td>\n",
       "      <td>5.704361e-01</td>\n",
       "      <td>3.273459e-01</td>\n",
       "      <td>5.971390e-01</td>\n",
       "      <td>...</td>\n",
       "      <td>1.863772e-01</td>\n",
       "      <td>5.285536e-01</td>\n",
       "      <td>1.476421e-01</td>\n",
       "      <td>4.395266e-01</td>\n",
       "      <td>3.507156e-01</td>\n",
       "      <td>2.409522e-01</td>\n",
       "      <td>9.104512e-02</td>\n",
       "      <td>7.827995e-02</td>\n",
       "      <td>77.165000</td>\n",
       "      <td>0.000000</td>\n",
       "    </tr>\n",
       "    <tr>\n",
       "      <th>max</th>\n",
       "      <td>172792.000000</td>\n",
       "      <td>2.454930e+00</td>\n",
       "      <td>2.205773e+01</td>\n",
       "      <td>9.382558e+00</td>\n",
       "      <td>1.687534e+01</td>\n",
       "      <td>3.480167e+01</td>\n",
       "      <td>7.330163e+01</td>\n",
       "      <td>1.205895e+02</td>\n",
       "      <td>2.000721e+01</td>\n",
       "      <td>1.559499e+01</td>\n",
       "      <td>...</td>\n",
       "      <td>2.720284e+01</td>\n",
       "      <td>1.050309e+01</td>\n",
       "      <td>2.252841e+01</td>\n",
       "      <td>4.584549e+00</td>\n",
       "      <td>7.519589e+00</td>\n",
       "      <td>3.517346e+00</td>\n",
       "      <td>3.161220e+01</td>\n",
       "      <td>3.384781e+01</td>\n",
       "      <td>25691.160000</td>\n",
       "      <td>1.000000</td>\n",
       "    </tr>\n",
       "  </tbody>\n",
       "</table>\n",
       "<p>8 rows × 31 columns</p>\n",
       "</div>"
      ],
      "text/plain": [
       "                Time            V1            V2            V3            V4  \\\n",
       "count  284807.000000  2.848070e+05  2.848070e+05  2.848070e+05  2.848070e+05   \n",
       "mean    94813.859575  1.168375e-15  3.416908e-16 -1.379537e-15  2.074095e-15   \n",
       "std     47488.145955  1.958696e+00  1.651309e+00  1.516255e+00  1.415869e+00   \n",
       "min         0.000000 -5.640751e+01 -7.271573e+01 -4.832559e+01 -5.683171e+00   \n",
       "25%     54201.500000 -9.203734e-01 -5.985499e-01 -8.903648e-01 -8.486401e-01   \n",
       "50%     84692.000000  1.810880e-02  6.548556e-02  1.798463e-01 -1.984653e-02   \n",
       "75%    139320.500000  1.315642e+00  8.037239e-01  1.027196e+00  7.433413e-01   \n",
       "max    172792.000000  2.454930e+00  2.205773e+01  9.382558e+00  1.687534e+01   \n",
       "\n",
       "                 V5            V6            V7            V8            V9  \\\n",
       "count  2.848070e+05  2.848070e+05  2.848070e+05  2.848070e+05  2.848070e+05   \n",
       "mean   9.604066e-16  1.487313e-15 -5.556467e-16  1.213481e-16 -2.406331e-15   \n",
       "std    1.380247e+00  1.332271e+00  1.237094e+00  1.194353e+00  1.098632e+00   \n",
       "min   -1.137433e+02 -2.616051e+01 -4.355724e+01 -7.321672e+01 -1.343407e+01   \n",
       "25%   -6.915971e-01 -7.682956e-01 -5.540759e-01 -2.086297e-01 -6.430976e-01   \n",
       "50%   -5.433583e-02 -2.741871e-01  4.010308e-02  2.235804e-02 -5.142873e-02   \n",
       "75%    6.119264e-01  3.985649e-01  5.704361e-01  3.273459e-01  5.971390e-01   \n",
       "max    3.480167e+01  7.330163e+01  1.205895e+02  2.000721e+01  1.559499e+01   \n",
       "\n",
       "       ...           V21           V22           V23           V24  \\\n",
       "count  ...  2.848070e+05  2.848070e+05  2.848070e+05  2.848070e+05   \n",
       "mean   ...  1.654067e-16 -3.568593e-16  2.578648e-16  4.473266e-15   \n",
       "std    ...  7.345240e-01  7.257016e-01  6.244603e-01  6.056471e-01   \n",
       "min    ... -3.483038e+01 -1.093314e+01 -4.480774e+01 -2.836627e+00   \n",
       "25%    ... -2.283949e-01 -5.423504e-01 -1.618463e-01 -3.545861e-01   \n",
       "50%    ... -2.945017e-02  6.781943e-03 -1.119293e-02  4.097606e-02   \n",
       "75%    ...  1.863772e-01  5.285536e-01  1.476421e-01  4.395266e-01   \n",
       "max    ...  2.720284e+01  1.050309e+01  2.252841e+01  4.584549e+00   \n",
       "\n",
       "                V25           V26           V27           V28         Amount  \\\n",
       "count  2.848070e+05  2.848070e+05  2.848070e+05  2.848070e+05  284807.000000   \n",
       "mean   5.340915e-16  1.683437e-15 -3.660091e-16 -1.227390e-16      88.349619   \n",
       "std    5.212781e-01  4.822270e-01  4.036325e-01  3.300833e-01     250.120109   \n",
       "min   -1.029540e+01 -2.604551e+00 -2.256568e+01 -1.543008e+01       0.000000   \n",
       "25%   -3.171451e-01 -3.269839e-01 -7.083953e-02 -5.295979e-02       5.600000   \n",
       "50%    1.659350e-02 -5.213911e-02  1.342146e-03  1.124383e-02      22.000000   \n",
       "75%    3.507156e-01  2.409522e-01  9.104512e-02  7.827995e-02      77.165000   \n",
       "max    7.519589e+00  3.517346e+00  3.161220e+01  3.384781e+01   25691.160000   \n",
       "\n",
       "               Class  \n",
       "count  284807.000000  \n",
       "mean        0.001727  \n",
       "std         0.041527  \n",
       "min         0.000000  \n",
       "25%         0.000000  \n",
       "50%         0.000000  \n",
       "75%         0.000000  \n",
       "max         1.000000  \n",
       "\n",
       "[8 rows x 31 columns]"
      ]
     },
     "execution_count": 4,
     "metadata": {},
     "output_type": "execute_result"
    }
   ],
   "source": [
    "df.describe()"
   ]
  },
  {
   "cell_type": "code",
   "execution_count": 5,
   "id": "d6fa7f6a",
   "metadata": {},
   "outputs": [
    {
     "data": {
      "text/plain": [
       "False"
      ]
     },
     "execution_count": 5,
     "metadata": {},
     "output_type": "execute_result"
    }
   ],
   "source": [
    "df.isnull().values.any()"
   ]
  },
  {
   "cell_type": "code",
   "execution_count": 6,
   "id": "55ba9ccb",
   "metadata": {},
   "outputs": [
    {
     "data": {
      "text/plain": [
       "(284807, 31)"
      ]
     },
     "execution_count": 6,
     "metadata": {},
     "output_type": "execute_result"
    }
   ],
   "source": [
    "df.shape"
   ]
  },
  {
   "cell_type": "markdown",
   "id": "a993205f",
   "metadata": {},
   "source": [
    "## Visualize Transactions"
   ]
  },
  {
   "cell_type": "code",
   "execution_count": 7,
   "id": "5166dac3",
   "metadata": {},
   "outputs": [
    {
     "name": "stderr",
     "output_type": "stream",
     "text": [
      "C:\\Users\\rajmp\\AppData\\Local\\Temp\\ipykernel_3224\\46723014.py:2: FutureWarning: pandas.value_counts is deprecated and will be removed in a future version. Use pd.Series(obj).value_counts() instead.\n",
      "  count_classes=pd.value_counts(df['Class'],sort=True)\n"
     ]
    },
    {
     "data": {
      "text/plain": [
       "([<matplotlib.axis.XTick at 0x22178a73a90>,\n",
       "  <matplotlib.axis.XTick at 0x22178a44cd0>],\n",
       " [Text(0, 0, 'Normal'), Text(1, 0, 'Fraud')])"
      ]
     },
     "execution_count": 7,
     "metadata": {},
     "output_type": "execute_result"
    },
    {
     "data": {
      "image/png": "[encoded data removed]",
      "text/plain": [
       "<Figure size 640x480 with 1 Axes>"
      ]
     },
     "metadata": {},
     "output_type": "display_data"
    }
   ],
   "source": [
    "LABELS=[\"Normal\",\"Fraud\"]\n",
    "count_classes=pd.value_counts(df['Class'],sort=True)\n",
    "count_classes.plot(kind='bar',rot=0)\n",
    "plt.xticks(range(2), LABELS)"
   ]
  },
  {
   "cell_type": "markdown",
   "id": "fd6335db",
   "metadata": {},
   "source": [
    "### Save new data"
   ]
  },
  {
   "cell_type": "code",
   "execution_count": 8,
   "id": "9beab9eb",
   "metadata": {},
   "outputs": [],
   "source": [
    "frauds=df[df.Class==1]\n",
    "Normal=df[df.Class==0]"
   ]
  },
  {
   "cell_type": "code",
   "execution_count": 9,
   "id": "edb2e37e",
   "metadata": {},
   "outputs": [
    {
     "data": {
      "text/plain": [
       "(492, 31)"
      ]
     },
     "execution_count": 9,
     "metadata": {},
     "output_type": "execute_result"
    }
   ],
   "source": [
    "frauds.shape"
   ]
  },
  {
   "cell_type": "code",
   "execution_count": 10,
   "id": "6ffe0d73",
   "metadata": {},
   "outputs": [
    {
     "data": {
      "text/plain": [
       "(284315, 31)"
      ]
     },
     "execution_count": 10,
     "metadata": {},
     "output_type": "execute_result"
    }
   ],
   "source": [
    "Normal.shape"
   ]
  },
  {
   "cell_type": "code",
   "execution_count": 11,
   "id": "2da5b1ee",
   "metadata": {},
   "outputs": [
    {
     "data": {
      "text/plain": [
       "count     492.000000\n",
       "mean      122.211321\n",
       "std       256.683288\n",
       "min         0.000000\n",
       "25%         1.000000\n",
       "50%         9.250000\n",
       "75%       105.890000\n",
       "max      2125.870000\n",
       "Name: Amount, dtype: float64"
      ]
     },
     "execution_count": 11,
     "metadata": {},
     "output_type": "execute_result"
    }
   ],
   "source": [
    "frauds.Amount.describe()"
   ]
  },
  {
   "cell_type": "code",
   "execution_count": 12,
   "id": "d2d92c5f",
   "metadata": {},
   "outputs": [
    {
     "data": {
      "text/plain": [
       "count    284315.000000\n",
       "mean         88.291022\n",
       "std         250.105092\n",
       "min           0.000000\n",
       "25%           5.650000\n",
       "50%          22.000000\n",
       "75%          77.050000\n",
       "max       25691.160000\n",
       "Name: Amount, dtype: float64"
      ]
     },
     "execution_count": 12,
     "metadata": {},
     "output_type": "execute_result"
    }
   ],
   "source": [
    "Normal.Amount.describe()"
   ]
  },
  {
   "cell_type": "code",
   "execution_count": 13,
   "id": "2fee0e91",
   "metadata": {},
   "outputs": [
    {
     "data": {
      "text/plain": [
       "count       492.000000\n",
       "mean      80746.806911\n",
       "std       47835.365138\n",
       "min         406.000000\n",
       "25%       41241.500000\n",
       "50%       75568.500000\n",
       "75%      128483.000000\n",
       "max      170348.000000\n",
       "Name: Time, dtype: float64"
      ]
     },
     "execution_count": 13,
     "metadata": {},
     "output_type": "execute_result"
    }
   ],
   "source": [
    "frauds.Time.describe()"
   ]
  },
  {
   "cell_type": "code",
   "execution_count": 14,
   "id": "cd6c0c48",
   "metadata": {},
   "outputs": [
    {
     "data": {
      "image/png": "[encoded data removed]",
      "text/plain": [
       "<Figure size 640x480 with 1 Axes>"
      ]
     },
     "metadata": {},
     "output_type": "display_data"
    }
   ],
   "source": [
    "bins = np.linspace(200, 2500, 100)\n",
    "plt.hist(Normal.Amount, bins=bins, alpha=1, density=True, label='Normal')\n",
    "plt.hist(frauds.Amount, bins=bins, alpha=0.5, density=True, label='Fraud')\n",
    "plt.legend(loc='upper right')\n",
    "plt.title(\"Transaction amount vs Percentage of transactions\")\n",
    "plt.xlabel(\"Transaction amount (USD)\")\n",
    "plt.ylabel(\"Percentage of transactions\");\n",
    "plt.show()"
   ]
  },
  {
   "cell_type": "code",
   "execution_count": 15,
   "id": "17bbb052",
   "metadata": {},
   "outputs": [
    {
     "data": {
      "text/plain": [
       "Text(0.5, 1.0, 'Normal')"
      ]
     },
     "execution_count": 15,
     "metadata": {},
     "output_type": "execute_result"
    },
    {
     "data": {
      "image/png": "[encoded data removed]",
      "text/plain": [
       "<Figure size 640x480 with 2 Axes>"
      ]
     },
     "metadata": {},
     "output_type": "display_data"
    }
   ],
   "source": [
    "f, (ax1, ax2) = plt.subplots(2, 1, sharex=True)\n",
    "bins = 50\n",
    "\n",
    "ax1.hist(frauds.Amount, bins = bins)\n",
    "ax1.set_title('Fraud')\n",
    "\n",
    "ax2.hist(Normal.Amount, bins = bins)\n",
    "ax2.set_title('Normal')\n"
   ]
  },
  {
   "cell_type": "code",
   "execution_count": 16,
   "id": "fab13c9e",
   "metadata": {},
   "outputs": [
    {
     "data": {
      "text/plain": [
       "Text(0.5, 1.0, 'Normal')"
      ]
     },
     "execution_count": 16,
     "metadata": {},
     "output_type": "execute_result"
    },
    {
     "data": {
      "image/png": "[encoded data removed]",
      "text/plain": [
       "<Figure size 640x480 with 2 Axes>"
      ]
     },
     "metadata": {},
     "output_type": "display_data"
    }
   ],
   "source": [
    "f, (ax1, ax2) = plt.subplots(2, 1, sharex=True)\n",
    "f.suptitle('Time of transaction vs Amount by class')\n",
    "\n",
    "ax1.scatter(frauds.Time, frauds.Amount)\n",
    "ax1.set_title('Fraud')\n",
    "\n",
    "ax2.scatter(Normal.Time, Normal.Amount)\n",
    "ax2.set_title('Normal')"
   ]
  },
  {
   "cell_type": "markdown",
   "id": "92f6f38b",
   "metadata": {},
   "source": [
    "### Preparing Data"
   ]
  },
  {
   "cell_type": "code",
   "execution_count": 17,
   "id": "64bb57d2",
   "metadata": {},
   "outputs": [],
   "source": [
    "from sklearn.preprocessing import StandardScaler\n",
    "data=df.drop(['Time'],axis=1)\n",
    "data['Amount']=StandardScaler().fit_transform(data['Amount'].values.reshape(-1,1))\n",
    "\n"
   ]
  },
  {
   "cell_type": "code",
   "execution_count": 18,
   "id": "ce398808",
   "metadata": {},
   "outputs": [
    {
     "data": {
      "text/plain": [
       "(227451, 29)"
      ]
     },
     "execution_count": 18,
     "metadata": {},
     "output_type": "execute_result"
    }
   ],
   "source": [
    "\n",
    "X_train, X_test = train_test_split(data, test_size=0.2, random_state=42)\n",
    "X_train = X_train[X_train.Class == 0]\n",
    "X_train = X_train.drop(['Class'], axis=1)\n",
    "y_test = X_test['Class']\n",
    "X_test = X_test.drop(['Class'], axis=1)\n",
    "X_train = X_train.values\n",
    "X_test = X_test.values\n",
    "X_train.shape\n"
   ]
  },
  {
   "cell_type": "markdown",
   "id": "d192d479",
   "metadata": {},
   "source": [
    "### Build the Model"
   ]
  },
  {
   "cell_type": "code",
   "execution_count": 19,
   "id": "64af45da",
   "metadata": {},
   "outputs": [],
   "source": [
    "input_dim=X_train.shape[1]\n",
    "encoding_dim=14\n",
    "input_layer=Input(shape=(input_dim, ))\n",
    "encoder=Dense(encoding_dim,activation='tanh',activity_regularizer=regularizers.L1(1e-7))(input_layer)\n",
    "encoder=Dense(int(encoding_dim/2),activation='relu')(encoder)\n",
    "decoder=Dense(int(encoding_dim/2),activation=\"tanh\")(encoder)\n",
    "decoder=Dense(input_dim,activation=\"relu\")(decoder)\n",
    "autoencoder=Model(inputs=input_layer,outputs=decoder)"
   ]
  },
  {
   "cell_type": "markdown",
   "id": "79fa6813",
   "metadata": {},
   "source": [
    "### compile the model"
   ]
  },
  {
   "cell_type": "code",
   "execution_count": 20,
   "id": "0f7cdcad",
   "metadata": {},
   "outputs": [],
   "source": [
    "np_epochs=50\n",
    "batch_size=64\n",
    "autoencoder.compile(metrics=[\"accuracy\"],\n",
    "                   loss=\"mean_squared_error\",\n",
    "                   optimizer=\"adam\")"
   ]
  },
  {
   "cell_type": "markdown",
   "id": "e7101dfa",
   "metadata": {},
   "source": [
    "### Create checkpoint,early stopping "
   ]
  },
  {
   "cell_type": "code",
   "execution_count": 21,
   "id": "718ee8c2",
   "metadata": {},
   "outputs": [],
   "source": [
    "checkpointer=ModelCheckpoint(filepath='model.h5',monitor='val_loss' ,verbose=2,mode=\"min\",save_best_only=True)\n",
    "from keras.callbacks import EarlyStopping\n",
    "ear_stop=EarlyStopping(mode='min',monitor='val_loss',verbose=1,patience=10,restore_best_weights=True)"
   ]
  },
  {
   "cell_type": "markdown",
   "id": "772cc82d",
   "metadata": {},
   "source": [
    "### Fit the model"
   ]
  },
  {
   "cell_type": "code",
   "execution_count": 22,
   "id": "e7b102b7",
   "metadata": {},
   "outputs": [
    {
     "name": "stdout",
     "output_type": "stream",
     "text": [
      "Epoch 1/50\n",
      "3514/3554 [============================>.] - ETA: 0s - loss: 0.8311 - accuracy: 0.5553\n",
      "Epoch 1: val_loss improved from inf to 0.79506, saving model to model.h5\n",
      "3554/3554 [==============================] - 17s 4ms/step - loss: 0.8296 - accuracy: 0.5562 - val_loss: 0.7951 - val_accuracy: 0.6440\n",
      "Epoch 2/50\n",
      " 128/3554 [>.............................] - ETA: 4s - loss: 0.7196 - accuracy: 0.6399"
     ]
    },
    {
     "name": "stderr",
     "output_type": "stream",
     "text": [
      "C:\\Users\\rajmp\\AppData\\Local\\Programs\\Python\\Python311\\Lib\\site-packages\\keras\\src\\engine\\training.py:3000: UserWarning: You are saving your model as an HDF5 file via `model.save()`. This file format is considered legacy. We recommend using instead the native Keras format, e.g. `model.save('my_model.keras')`.\n",
      "  saving_api.save_model(\n"
     ]
    },
    {
     "name": "stdout",
     "output_type": "stream",
     "text": [
      "3529/3554 [============================>.] - ETA: 0s - loss: 0.7482 - accuracy: 0.6524\n",
      "Epoch 2: val_loss improved from 0.79506 to 0.77414, saving model to model.h5\n",
      "3554/3554 [==============================] - 6s 2ms/step - loss: 0.7503 - accuracy: 0.6526 - val_loss: 0.7741 - val_accuracy: 0.6628\n",
      "Epoch 3/50\n",
      "3552/3554 [============================>.] - ETA: 0s - loss: 0.7348 - accuracy: 0.6715\n",
      "Epoch 3: val_loss improved from 0.77414 to 0.76427, saving model to model.h5\n",
      "3554/3554 [==============================] - 6s 2ms/step - loss: 0.7347 - accuracy: 0.6715 - val_loss: 0.7643 - val_accuracy: 0.6824\n",
      "Epoch 4/50\n",
      "3534/3554 [============================>.] - ETA: 0s - loss: 0.7257 - accuracy: 0.6852\n",
      "Epoch 4: val_loss improved from 0.76427 to 0.75817, saving model to model.h5\n",
      "3554/3554 [==============================] - 6s 2ms/step - loss: 0.7260 - accuracy: 0.6853 - val_loss: 0.7582 - val_accuracy: 0.6980\n",
      "Epoch 5/50\n",
      "3536/3554 [============================>.] - ETA: 0s - loss: 0.7187 - accuracy: 0.6991\n",
      "Epoch 5: val_loss improved from 0.75817 to 0.74928, saving model to model.h5\n",
      "3554/3554 [==============================] - 7s 2ms/step - loss: 0.7185 - accuracy: 0.6992 - val_loss: 0.7493 - val_accuracy: 0.7076\n",
      "Epoch 6/50\n",
      "3529/3554 [============================>.] - ETA: 0s - loss: 0.7130 - accuracy: 0.7054\n",
      "Epoch 6: val_loss did not improve from 0.74928\n",
      "3554/3554 [==============================] - 7s 2ms/step - loss: 0.7122 - accuracy: 0.7054 - val_loss: 0.7504 - val_accuracy: 0.7029\n",
      "Epoch 7/50\n",
      "3519/3554 [============================>.] - ETA: 0s - loss: 0.7095 - accuracy: 0.7082\n",
      "Epoch 7: val_loss improved from 0.74928 to 0.74439, saving model to model.h5\n",
      "3554/3554 [==============================] - 6s 2ms/step - loss: 0.7091 - accuracy: 0.7081 - val_loss: 0.7444 - val_accuracy: 0.7121\n",
      "Epoch 8/50\n",
      "3535/3554 [============================>.] - ETA: 0s - loss: 0.7078 - accuracy: 0.7092\n",
      "Epoch 8: val_loss improved from 0.74439 to 0.74195, saving model to model.h5\n",
      "3554/3554 [==============================] - 7s 2ms/step - loss: 0.7073 - accuracy: 0.7093 - val_loss: 0.7419 - val_accuracy: 0.7140\n",
      "Epoch 9/50\n",
      "3523/3554 [============================>.] - ETA: 0s - loss: 0.7064 - accuracy: 0.7101\n",
      "Epoch 9: val_loss improved from 0.74195 to 0.74162, saving model to model.h5\n",
      "3554/3554 [==============================] - 6s 2ms/step - loss: 0.7056 - accuracy: 0.7103 - val_loss: 0.7416 - val_accuracy: 0.7134\n",
      "Epoch 10/50\n",
      "3549/3554 [============================>.] - ETA: 0s - loss: 0.7043 - accuracy: 0.7087\n",
      "Epoch 10: val_loss did not improve from 0.74162\n",
      "3554/3554 [==============================] - 6s 2ms/step - loss: 0.7043 - accuracy: 0.7087 - val_loss: 0.7433 - val_accuracy: 0.7030\n",
      "Epoch 11/50\n",
      "3543/3554 [============================>.] - ETA: 0s - loss: 0.7040 - accuracy: 0.7075\n",
      "Epoch 11: val_loss improved from 0.74162 to 0.73911, saving model to model.h5\n",
      "3554/3554 [==============================] - 5s 2ms/step - loss: 0.7036 - accuracy: 0.7076 - val_loss: 0.7391 - val_accuracy: 0.7126\n",
      "Epoch 12/50\n",
      "3534/3554 [============================>.] - ETA: 0s - loss: 0.7017 - accuracy: 0.7079\n",
      "Epoch 12: val_loss improved from 0.73911 to 0.73846, saving model to model.h5\n",
      "3554/3554 [==============================] - 5s 1ms/step - loss: 0.7020 - accuracy: 0.7078 - val_loss: 0.7385 - val_accuracy: 0.7073\n",
      "Epoch 13/50\n",
      "3525/3554 [============================>.] - ETA: 0s - loss: 0.7003 - accuracy: 0.7089\n",
      "Epoch 13: val_loss did not improve from 0.73846\n",
      "3554/3554 [==============================] - 5s 1ms/step - loss: 0.7010 - accuracy: 0.7089 - val_loss: 0.7454 - val_accuracy: 0.7003\n",
      "Epoch 14/50\n",
      "3526/3554 [============================>.] - ETA: 0s - loss: 0.6984 - accuracy: 0.7098\n",
      "Epoch 14: val_loss improved from 0.73846 to 0.73811, saving model to model.h5\n",
      "3554/3554 [==============================] - 5s 1ms/step - loss: 0.6997 - accuracy: 0.7097 - val_loss: 0.7381 - val_accuracy: 0.7158\n",
      "Epoch 15/50\n",
      "3525/3554 [============================>.] - ETA: 0s - loss: 0.6994 - accuracy: 0.7114\n",
      "Epoch 15: val_loss improved from 0.73811 to 0.73603, saving model to model.h5\n",
      "3554/3554 [==============================] - 5s 2ms/step - loss: 0.6992 - accuracy: 0.7114 - val_loss: 0.7360 - val_accuracy: 0.7123\n",
      "Epoch 16/50\n",
      "3550/3554 [============================>.] - ETA: 0s - loss: 0.6985 - accuracy: 0.7122\n",
      "Epoch 16: val_loss did not improve from 0.73603\n",
      "3554/3554 [==============================] - 5s 1ms/step - loss: 0.6983 - accuracy: 0.7121 - val_loss: 0.7362 - val_accuracy: 0.7144\n",
      "Epoch 17/50\n",
      "3544/3554 [============================>.] - ETA: 0s - loss: 0.6967 - accuracy: 0.7146\n",
      "Epoch 17: val_loss did not improve from 0.73603\n",
      "3554/3554 [==============================] - 5s 1ms/step - loss: 0.6972 - accuracy: 0.7147 - val_loss: 0.7385 - val_accuracy: 0.7137\n",
      "Epoch 18/50\n",
      "3533/3554 [============================>.] - ETA: 0s - loss: 0.6974 - accuracy: 0.7138\n",
      "Epoch 18: val_loss improved from 0.73603 to 0.73403, saving model to model.h5\n",
      "3554/3554 [==============================] - 5s 1ms/step - loss: 0.6973 - accuracy: 0.7138 - val_loss: 0.7340 - val_accuracy: 0.7154\n",
      "Epoch 19/50\n",
      "3521/3554 [============================>.] - ETA: 0s - loss: 0.6966 - accuracy: 0.7159\n",
      "Epoch 19: val_loss did not improve from 0.73403\n",
      "3554/3554 [==============================] - 5s 1ms/step - loss: 0.6962 - accuracy: 0.7159 - val_loss: 0.7376 - val_accuracy: 0.7184\n",
      "Epoch 20/50\n",
      "3533/3554 [============================>.] - ETA: 0s - loss: 0.6963 - accuracy: 0.7164\n",
      "Epoch 20: val_loss improved from 0.73403 to 0.73340, saving model to model.h5\n",
      "3554/3554 [==============================] - 6s 2ms/step - loss: 0.6956 - accuracy: 0.7163 - val_loss: 0.7334 - val_accuracy: 0.7235\n",
      "Epoch 21/50\n",
      "3527/3554 [============================>.] - ETA: 0s - loss: 0.6961 - accuracy: 0.7171\n",
      "Epoch 21: val_loss did not improve from 0.73340\n",
      "3554/3554 [==============================] - 6s 2ms/step - loss: 0.6955 - accuracy: 0.7172 - val_loss: 0.7338 - val_accuracy: 0.7213\n",
      "Epoch 22/50\n",
      "3530/3554 [============================>.] - ETA: 0s - loss: 0.6943 - accuracy: 0.7179\n",
      "Epoch 22: val_loss did not improve from 0.73340\n",
      "3554/3554 [==============================] - 6s 2ms/step - loss: 0.6946 - accuracy: 0.7180 - val_loss: 0.7353 - val_accuracy: 0.7170\n",
      "Epoch 23/50\n",
      "3538/3554 [============================>.] - ETA: 0s - loss: 0.6953 - accuracy: 0.7166\n",
      "Epoch 23: val_loss improved from 0.73340 to 0.73163, saving model to model.h5\n",
      "3554/3554 [==============================] - 6s 2ms/step - loss: 0.6948 - accuracy: 0.7166 - val_loss: 0.7316 - val_accuracy: 0.7246\n",
      "Epoch 24/50\n",
      "3535/3554 [============================>.] - ETA: 0s - loss: 0.6948 - accuracy: 0.7166\n",
      "Epoch 24: val_loss did not improve from 0.73163\n",
      "3554/3554 [==============================] - 5s 1ms/step - loss: 0.6947 - accuracy: 0.7165 - val_loss: 0.7352 - val_accuracy: 0.7161\n",
      "Epoch 25/50\n",
      "3516/3554 [============================>.] - ETA: 0s - loss: 0.6954 - accuracy: 0.7168\n",
      "Epoch 25: val_loss did not improve from 0.73163\n",
      "3554/3554 [==============================] - 5s 1ms/step - loss: 0.6946 - accuracy: 0.7167 - val_loss: 0.7338 - val_accuracy: 0.7116\n",
      "Epoch 26/50\n",
      "3541/3554 [============================>.] - ETA: 0s - loss: 0.6934 - accuracy: 0.7182\n",
      "Epoch 26: val_loss did not improve from 0.73163\n",
      "3554/3554 [==============================] - 5s 1ms/step - loss: 0.6936 - accuracy: 0.7182 - val_loss: 0.7318 - val_accuracy: 0.7189\n",
      "Epoch 27/50\n",
      "3546/3554 [============================>.] - ETA: 0s - loss: 0.6934 - accuracy: 0.7185\n",
      "Epoch 27: val_loss did not improve from 0.73163\n",
      "3554/3554 [==============================] - 5s 1ms/step - loss: 0.6935 - accuracy: 0.7184 - val_loss: 0.7327 - val_accuracy: 0.7148\n",
      "Epoch 28/50\n",
      "3542/3554 [============================>.] - ETA: 0s - loss: 0.6937 - accuracy: 0.7184\n",
      "Epoch 28: val_loss improved from 0.73163 to 0.73123, saving model to model.h5\n",
      "3554/3554 [==============================] - 5s 1ms/step - loss: 0.6933 - accuracy: 0.7184 - val_loss: 0.7312 - val_accuracy: 0.7278\n",
      "Epoch 29/50\n",
      "3521/3554 [============================>.] - ETA: 0s - loss: 0.6939 - accuracy: 0.7191\n",
      "Epoch 29: val_loss improved from 0.73123 to 0.73066, saving model to model.h5\n",
      "3554/3554 [==============================] - 5s 1ms/step - loss: 0.6931 - accuracy: 0.7192 - val_loss: 0.7307 - val_accuracy: 0.7275\n",
      "Epoch 30/50\n",
      "3546/3554 [============================>.] - ETA: 0s - loss: 0.6932 - accuracy: 0.7193\n",
      "Epoch 30: val_loss improved from 0.73066 to 0.73052, saving model to model.h5\n",
      "3554/3554 [==============================] - 5s 1ms/step - loss: 0.6930 - accuracy: 0.7192 - val_loss: 0.7305 - val_accuracy: 0.7267\n",
      "Epoch 31/50\n",
      "3552/3554 [============================>.] - ETA: 0s - loss: 0.6925 - accuracy: 0.7199\n",
      "Epoch 31: val_loss did not improve from 0.73052\n",
      "3554/3554 [==============================] - 5s 1ms/step - loss: 0.6925 - accuracy: 0.7199 - val_loss: 0.7308 - val_accuracy: 0.7269\n",
      "Epoch 32/50\n",
      "3543/3554 [============================>.] - ETA: 0s - loss: 0.6927 - accuracy: 0.7202\n",
      "Epoch 32: val_loss did not improve from 0.73052\n",
      "3554/3554 [==============================] - 5s 1ms/step - loss: 0.6928 - accuracy: 0.7202 - val_loss: 0.7306 - val_accuracy: 0.7274\n",
      "Epoch 33/50\n",
      "3527/3554 [============================>.] - ETA: 0s - loss: 0.6924 - accuracy: 0.7195\n",
      "Epoch 33: val_loss did not improve from 0.73052\n",
      "3554/3554 [==============================] - 5s 1ms/step - loss: 0.6923 - accuracy: 0.7195 - val_loss: 0.7308 - val_accuracy: 0.7081\n",
      "Epoch 34/50\n",
      "3548/3554 [============================>.] - ETA: 0s - loss: 0.6920 - accuracy: 0.7209\n",
      "Epoch 34: val_loss did not improve from 0.73052\n",
      "3554/3554 [==============================] - 5s 1ms/step - loss: 0.6920 - accuracy: 0.7208 - val_loss: 0.7395 - val_accuracy: 0.7215\n",
      "Epoch 35/50\n",
      "3549/3554 [============================>.] - ETA: 0s - loss: 0.6919 - accuracy: 0.7211\n",
      "Epoch 35: val_loss improved from 0.73052 to 0.72814, saving model to model.h5\n",
      "3554/3554 [==============================] - 5s 1ms/step - loss: 0.6919 - accuracy: 0.7210 - val_loss: 0.7281 - val_accuracy: 0.7257\n",
      "Epoch 36/50\n",
      "3543/3554 [============================>.] - ETA: 0s - loss: 0.6916 - accuracy: 0.7211\n",
      "Epoch 36: val_loss did not improve from 0.72814\n",
      "3554/3554 [==============================] - 5s 1ms/step - loss: 0.6918 - accuracy: 0.7211 - val_loss: 0.7294 - val_accuracy: 0.7180\n",
      "Epoch 37/50\n",
      "3528/3554 [============================>.] - ETA: 0s - loss: 0.6915 - accuracy: 0.7214\n",
      "Epoch 37: val_loss improved from 0.72814 to 0.72808, saving model to model.h5\n",
      "3554/3554 [==============================] - 5s 1ms/step - loss: 0.6916 - accuracy: 0.7214 - val_loss: 0.7281 - val_accuracy: 0.7198\n",
      "Epoch 38/50\n",
      "3524/3554 [============================>.] - ETA: 0s - loss: 0.6921 - accuracy: 0.7223\n",
      "Epoch 38: val_loss improved from 0.72808 to 0.72719, saving model to model.h5\n",
      "3554/3554 [==============================] - 5s 1ms/step - loss: 0.6916 - accuracy: 0.7222 - val_loss: 0.7272 - val_accuracy: 0.7321\n",
      "Epoch 39/50\n",
      "3536/3554 [============================>.] - ETA: 0s - loss: 0.6911 - accuracy: 0.7223\n",
      "Epoch 39: val_loss did not improve from 0.72719\n",
      "3554/3554 [==============================] - 5s 1ms/step - loss: 0.6912 - accuracy: 0.7224 - val_loss: 0.7282 - val_accuracy: 0.7284\n",
      "Epoch 40/50\n",
      "3547/3554 [============================>.] - ETA: 0s - loss: 0.6917 - accuracy: 0.7226\n",
      "Epoch 40: val_loss did not improve from 0.72719\n",
      "3554/3554 [==============================] - 5s 1ms/step - loss: 0.6915 - accuracy: 0.7227 - val_loss: 0.7275 - val_accuracy: 0.7300\n",
      "Epoch 41/50\n",
      "3549/3554 [============================>.] - ETA: 0s - loss: 0.6912 - accuracy: 0.7222\n",
      "Epoch 41: val_loss did not improve from 0.72719\n",
      "3554/3554 [==============================] - 5s 2ms/step - loss: 0.6911 - accuracy: 0.7222 - val_loss: 0.7273 - val_accuracy: 0.7175\n",
      "Epoch 42/50\n",
      "3527/3554 [============================>.] - ETA: 0s - loss: 0.6907 - accuracy: 0.7222\n",
      "Epoch 42: val_loss improved from 0.72719 to 0.72687, saving model to model.h5\n",
      "3554/3554 [==============================] - 5s 1ms/step - loss: 0.6910 - accuracy: 0.7223 - val_loss: 0.7269 - val_accuracy: 0.7321\n",
      "Epoch 43/50\n",
      "3547/3554 [============================>.] - ETA: 0s - loss: 0.6911 - accuracy: 0.7217\n",
      "Epoch 43: val_loss did not improve from 0.72687\n",
      "3554/3554 [==============================] - 5s 1ms/step - loss: 0.6910 - accuracy: 0.7218 - val_loss: 0.7269 - val_accuracy: 0.7247\n",
      "Epoch 44/50\n",
      "3518/3554 [============================>.] - ETA: 0s - loss: 0.6906 - accuracy: 0.7229\n",
      "Epoch 44: val_loss did not improve from 0.72687\n",
      "3554/3554 [==============================] - 5s 1ms/step - loss: 0.6902 - accuracy: 0.7228 - val_loss: 0.7271 - val_accuracy: 0.7263\n",
      "Epoch 45/50\n",
      "3540/3554 [============================>.] - ETA: 0s - loss: 0.6907 - accuracy: 0.7225\n",
      "Epoch 45: val_loss did not improve from 0.72687\n",
      "3554/3554 [==============================] - 5s 1ms/step - loss: 0.6909 - accuracy: 0.7225 - val_loss: 0.7271 - val_accuracy: 0.7303\n",
      "Epoch 46/50\n",
      "3549/3554 [============================>.] - ETA: 0s - loss: 0.6905 - accuracy: 0.7229\n",
      "Epoch 46: val_loss did not improve from 0.72687\n",
      "3554/3554 [==============================] - 5s 1ms/step - loss: 0.6903 - accuracy: 0.7229 - val_loss: 0.7269 - val_accuracy: 0.7233\n",
      "Epoch 47/50\n",
      "3527/3554 [============================>.] - ETA: 0s - loss: 0.6909 - accuracy: 0.7234\n",
      "Epoch 47: val_loss did not improve from 0.72687\n",
      "3554/3554 [==============================] - 5s 1ms/step - loss: 0.6909 - accuracy: 0.7234 - val_loss: 0.7273 - val_accuracy: 0.7188\n",
      "Epoch 48/50\n",
      "3549/3554 [============================>.] - ETA: 0s - loss: 0.6903 - accuracy: 0.7233\n",
      "Epoch 48: val_loss improved from 0.72687 to 0.72648, saving model to model.h5\n",
      "3554/3554 [==============================] - 5s 1ms/step - loss: 0.6902 - accuracy: 0.7233 - val_loss: 0.7265 - val_accuracy: 0.7256\n",
      "Epoch 49/50\n",
      "3530/3554 [============================>.] - ETA: 0s - loss: 0.6896 - accuracy: 0.7231\n",
      "Epoch 49: val_loss did not improve from 0.72648\n",
      "3554/3554 [==============================] - 5s 1ms/step - loss: 0.6902 - accuracy: 0.7233 - val_loss: 0.7274 - val_accuracy: 0.7283\n",
      "Epoch 50/50\n",
      "3549/3554 [============================>.] - ETA: 0s - loss: 0.6905 - accuracy: 0.7236\n",
      "Epoch 50: val_loss did not improve from 0.72648\n",
      "3554/3554 [==============================] - 5s 1ms/step - loss: 0.6905 - accuracy: 0.7236 - val_loss: 0.7265 - val_accuracy: 0.7272\n"
     ]
    }
   ],
   "source": [
    "history = autoencoder.fit(X_train, X_train,\n",
    "                    epochs=np_epochs,\n",
    "                    batch_size=batch_size,\n",
    "                    shuffle=True,\n",
    "                    validation_data=(X_test, X_test),\n",
    "                    verbose=1,\n",
    "                    callbacks=[checkpointer, ear_stop]).history"
   ]
  },
  {
   "cell_type": "code",
   "execution_count": 23,
   "id": "6cb79c2d",
   "metadata": {},
   "outputs": [],
   "source": [
    "autoencoder=load_model('model.h5')"
   ]
  },
  {
   "cell_type": "code",
   "execution_count": 24,
   "id": "302f392f",
   "metadata": {},
   "outputs": [],
   "source": [
    "#Evalution"
   ]
  },
  {
   "cell_type": "code",
   "execution_count": 25,
   "id": "dfdb1381",
   "metadata": {},
   "outputs": [
    {
     "data": {
      "text/plain": [
       "<matplotlib.legend.Legend at 0x221139e6d50>"
      ]
     },
     "execution_count": 25,
     "metadata": {},
     "output_type": "execute_result"
    },
    {
     "data": {
      "image/png": "[encoded data removed]",
      "text/plain": [
       "<Figure size 640x480 with 1 Axes>"
      ]
     },
     "metadata": {},
     "output_type": "display_data"
    }
   ],
   "source": [
    "plt.plot(history['loss'])\n",
    "plt.plot(history['val_loss'])\n",
    "plt.title('model loss')\n",
    "plt.ylabel('loss')\n",
    "plt.xlabel('epoch')\n",
    "plt.legend(['train', 'test'], loc='upper right')"
   ]
  },
  {
   "cell_type": "markdown",
   "id": "6b97b6ed",
   "metadata": {},
   "source": [
    "### Prediction"
   ]
  },
  {
   "cell_type": "code",
   "execution_count": 26,
   "id": "b6a8e179",
   "metadata": {},
   "outputs": [
    {
     "name": "stdout",
     "output_type": "stream",
     "text": [
      "1781/1781 [==============================] - 1s 690us/step\n"
     ]
    },
    {
     "data": {
      "text/html": [
       "<div>\n",
       "<style scoped>\n",
       "    .dataframe tbody tr th:only-of-type {\n",
       "        vertical-align: middle;\n",
       "    }\n",
       "\n",
       "    .dataframe tbody tr th {\n",
       "        vertical-align: top;\n",
       "    }\n",
       "\n",
       "    .dataframe thead th {\n",
       "        text-align: right;\n",
       "    }\n",
       "</style>\n",
       "<table border=\"1\" class=\"dataframe\">\n",
       "  <thead>\n",
       "    <tr style=\"text-align: right;\">\n",
       "      <th></th>\n",
       "      <th>reconstruction_error</th>\n",
       "      <th>true_class</th>\n",
       "    </tr>\n",
       "  </thead>\n",
       "  <tbody>\n",
       "    <tr>\n",
       "      <th>count</th>\n",
       "      <td>56962.000000</td>\n",
       "      <td>56962.000000</td>\n",
       "    </tr>\n",
       "    <tr>\n",
       "      <th>mean</th>\n",
       "      <td>0.726482</td>\n",
       "      <td>0.001720</td>\n",
       "    </tr>\n",
       "    <tr>\n",
       "      <th>std</th>\n",
       "      <td>3.436129</td>\n",
       "      <td>0.041443</td>\n",
       "    </tr>\n",
       "    <tr>\n",
       "      <th>min</th>\n",
       "      <td>0.034863</td>\n",
       "      <td>0.000000</td>\n",
       "    </tr>\n",
       "    <tr>\n",
       "      <th>25%</th>\n",
       "      <td>0.239156</td>\n",
       "      <td>0.000000</td>\n",
       "    </tr>\n",
       "    <tr>\n",
       "      <th>50%</th>\n",
       "      <td>0.379264</td>\n",
       "      <td>0.000000</td>\n",
       "    </tr>\n",
       "    <tr>\n",
       "      <th>75%</th>\n",
       "      <td>0.605404</td>\n",
       "      <td>0.000000</td>\n",
       "    </tr>\n",
       "    <tr>\n",
       "      <th>max</th>\n",
       "      <td>255.917455</td>\n",
       "      <td>1.000000</td>\n",
       "    </tr>\n",
       "  </tbody>\n",
       "</table>\n",
       "</div>"
      ],
      "text/plain": [
       "       reconstruction_error    true_class\n",
       "count          56962.000000  56962.000000\n",
       "mean               0.726482      0.001720\n",
       "std                3.436129      0.041443\n",
       "min                0.034863      0.000000\n",
       "25%                0.239156      0.000000\n",
       "50%                0.379264      0.000000\n",
       "75%                0.605404      0.000000\n",
       "max              255.917455      1.000000"
      ]
     },
     "execution_count": 26,
     "metadata": {},
     "output_type": "execute_result"
    }
   ],
   "source": [
    "predictions = autoencoder.predict(X_test)\n",
    "mse = np.mean(np.power(X_test - predictions, 2), axis=1)\n",
    "error_df = pd.DataFrame({'reconstruction_error': mse,\n",
    "                        'true_class': y_test})\n",
    "error_df.describe()"
   ]
  },
  {
   "cell_type": "markdown",
   "id": "b0b7b94b",
   "metadata": {},
   "source": [
    "### reconstruction error with fraud"
   ]
  },
  {
   "cell_type": "code",
   "execution_count": 27,
   "id": "ec235784",
   "metadata": {},
   "outputs": [
    {
     "data": {
      "text/plain": [
       "<Axes: ylabel='Count'>"
      ]
     },
     "execution_count": 27,
     "metadata": {},
     "output_type": "execute_result"
    },
    {
     "data": {
      "image/png": "[encoded data removed]",
      "text/plain": [
       "<Figure size 640x480 with 1 Axes>"
      ]
     },
     "metadata": {},
     "output_type": "display_data"
    }
   ],
   "source": [
    "sns.histplot(error_df[error_df['true_class'] == 1].reconstruction_error.values)"
   ]
  },
  {
   "cell_type": "code",
   "execution_count": 28,
   "id": "2b5d9f92",
   "metadata": {},
   "outputs": [],
   "source": [
    "from sklearn.metrics import (confusion_matrix, precision_recall_curve, auc,\n",
    "                             roc_curve, recall_score, classification_report, f1_score,\n",
    "                             precision_recall_fscore_support)"
   ]
  },
  {
   "cell_type": "code",
   "execution_count": 29,
   "id": "35672ffd",
   "metadata": {},
   "outputs": [
    {
     "data": {
      "image/png": "[encoded data removed]",
      "text/plain": [
       "<Figure size 640x480 with 1 Axes>"
      ]
     },
     "metadata": {},
     "output_type": "display_data"
    }
   ],
   "source": [
    "threshold=50\n",
    "groups = error_df.groupby('true_class')\n",
    "fig, ax = plt.subplots()\n",
    "\n",
    "for name, group in groups:\n",
    "    ax.plot(group.index, group.reconstruction_error, marker='o', ms=3.5, linestyle='',\n",
    "            label= \"Fraud\" if name == 1 else \"Normal\")\n",
    "ax.hlines(threshold, ax.get_xlim()[0], ax.get_xlim()[1], colors=\"r\", zorder=100, label='Threshold')\n",
    "ax.legend()\n",
    "plt.title(\"Reconstruction error for different classes\")\n",
    "plt.ylabel(\"Reconstruction error\")\n",
    "plt.xlabel(\"Data point index\")\n",
    "plt.show();"
   ]
  },
  {
   "cell_type": "code",
   "execution_count": 30,
   "id": "57d2f740",
   "metadata": {},
   "outputs": [
    {
     "data": {
      "image/png": "[encoded data removed]",
      "text/plain": [
       "<Figure size 1200x1200 with 2 Axes>"
      ]
     },
     "metadata": {},
     "output_type": "display_data"
    }
   ],
   "source": [
    "y_pred = [1 if e > threshold else 0 for e in error_df.reconstruction_error.values]\n",
    "conf_matrix = confusion_matrix(error_df.true_class, y_pred)\n",
    "plt.figure(figsize=(12, 12))\n",
    "sns.heatmap(conf_matrix, xticklabels=LABELS, yticklabels=LABELS, annot=True, fmt=\"d\");\n",
    "plt.title(\"Confusion matrix\")\n",
    "plt.ylabel('True class')\n",
    "plt.xlabel('Predicted class')\n",
    "plt.show()"
   ]
  },
  {
   "cell_type": "code",
   "execution_count": null,
   "id": "2be98b7e",
   "metadata": {},
   "outputs": [],
   "source": []
  }
 ],
 "metadata": {
  "kernelspec": {
   "display_name": "Python 3 (ipykernel)",
   "language": "python",
   "name": "python3"
  },
  "language_info": {
   "codemirror_mode": {
    "name": "ipython",
    "version": 3
   },
   "file_extension": ".py",
   "mimetype": "text/x-python",
   "name": "python",
   "nbconvert_exporter": "python",
   "pygments_lexer": "ipython3",
   "version": "3.11.5"
  }
 },
 "nbformat": 4,
 "nbformat_minor": 5
}
